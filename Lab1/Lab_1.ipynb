{
 "cells": [
  {
   "cell_type": "code",
   "execution_count": 77,
   "id": "f27a9d18",
   "metadata": {},
   "outputs": [],
   "source": [
    "import numpy as np\n",
    "import matplotlib.pyplot as plt\n",
    "import random\n",
    "from scipy.interpolate import UnivariateSpline, CubicSpline\n",
    "from pandas import DataFrame"
   ]
  },
  {
   "cell_type": "code",
   "execution_count": 78,
   "id": "83946dd0",
   "metadata": {},
   "outputs": [
    {
     "data": {
      "text/plain": [
       "<matplotlib.legend.Legend at 0x142661a8880>"
      ]
     },
     "execution_count": 78,
     "metadata": {},
     "output_type": "execute_result"
    },
    {
     "data": {
      "image/png": "[encoded data removed]",
      "text/plain": [
       "<Figure size 432x288 with 1 Axes>"
      ]
     },
     "metadata": {
      "needs_background": "light"
     },
     "output_type": "display_data"
    }
   ],
   "source": [
    "np.random.seed(13)\n",
    "\n",
    "def y_func(x):\n",
    "    return (25 + 0.02*x - 0.03*(x - 45)**2 + 0.00006*(x - 54)**3)\n",
    "\n",
    "n_all, train_percent = 60, 0.85 #600, 550, 500\n",
    "x_min, x_max = 5, 105\n",
    "me, sigma = 0, 1\n",
    "\n",
    "x = np.random.uniform(x_min, x_max, n_all)\n",
    "res = np.random.normal(me, sigma, n_all)\n",
    "in_train = np.random.choice(np.arange(n_all), int(n_all * train_percent),\n",
    "                           replace=False)\n",
    "\n",
    "y = y_func(x) + res\n",
    "\n",
    "x_line = np.linspace(x_min, x_max, n_all)\n",
    "y_line = y_func(x_line)\n",
    "\n",
    "x_train = x[in_train]\n",
    "y_train = y[in_train]\n",
    "\n",
    "x_test = np.delete(x, in_train)\n",
    "y_test = np.delete(y, in_train)\n",
    "\n",
    "plt.scatter(x_train, y_train, color='black', label='обучение', alpha=0.6)\n",
    "plt.scatter(x_test, y_test, color='red', label='тест', alpha=0.6)\n",
    "plt.plot(x_line, y_line, color='black', linestyle='dashed', label='f(x)')\n",
    "\n",
    "plt.xlabel('x')\n",
    "plt.ylabel('y')\n",
    "plt.legend()"
   ]
  },
  {
   "cell_type": "code",
   "execution_count": 79,
   "id": "4c476532",
   "metadata": {},
   "outputs": [
    {
     "name": "stdout",
     "output_type": "stream",
     "text": [
      "2\n",
      "    MSE_train    MSE_test\n",
      "2    0.039220  858.746732\n",
      "6    0.117665  872.989665\n",
      "12   0.235299  870.649456\n",
      "25   0.490074  872.894989\n",
      "50   0.980383  858.829002\n"
     ]
    },
    {
     "data": {
      "image/png": "[encoded data removed]",
      "text/plain": [
       "<Figure size 432x288 with 1 Axes>"
      ]
     },
     "metadata": {
      "needs_background": "light"
     },
     "output_type": "display_data"
    }
   ],
   "source": [
    "my_df_list = [2, 6, 12, 25, 50]\n",
    "MSE_all = [[0] * 2 for i in range(len(my_df_list))]\n",
    "MSE_all = DataFrame(MSE_all, columns=['MSE_train', 'MSE_test'], index=my_df_list)\n",
    "\n",
    "x_train = sorted(x_train)\n",
    "y_train_index = sorted(range(len(y_train)), key=lambda k: x_train)\n",
    "y_train = sorted(y_train_index)\n",
    "\n",
    "x_test = sorted(x_test)\n",
    "y_test_index = sorted(range(len(y_test)), key=lambda k: x_test)\n",
    "y_test = sorted(y_test_index)\n",
    "\n",
    "for my_df in my_df_list:\n",
    "    x_train_uni = np.linspace(x_min, x_max, num=my_df+2)\n",
    "    knots_index = []\n",
    "    \n",
    "    for u in x_train_uni:\n",
    "        min_ind = np.argmin(abs(x_train - u))\n",
    "        if min_ind not in knots_index:\n",
    "            knots_index.append(min_ind)\n",
    "    \n",
    "    y_train_knots = [y_train[i] for i in knots_index]\n",
    "    x_train_knots = sorted([x_train[i] for i in knots_index])\n",
    "\n",
    "    y_train_knots_index = sorted(range(len(y_train_knots)), key=lambda k: x_train_knots[k])\n",
    "    y_train_knots = [y_train_knots[i] for i in y_train_knots_index]\n",
    "\n",
    "    spl = UnivariateSpline(x_train, y_train, k=3, s=my_df)\n",
    "    MSE_all.loc[my_df, 'MSE_train'] = sum((y_train-spl(x_train))**2)/len(y_train)\n",
    "    MSE_all.loc[my_df, 'MSE_test'] = sum((y_test-spl(x_test))**2)/len(y_test)\n",
    "    \n",
    "    spl_cub = CubicSpline(x_train_knots, y_train_knots)\n",
    "\n",
    "    x_train_for_plot = np.linspace(min(x_train_knots),  max(x_train_knots), num=300)\n",
    "    y_train_for_plot = spl_cub(x_train_for_plot)\n",
    "    '''plt.plot(x_train_for_plot, y_train_for_plot, marker='', label=f'сплайн с df = {my_df}')'''\n",
    "    \n",
    "    del x_train_uni, knots_index, y_train_knots, x_train_knots, y_train_knots_index\n",
    "    del x_train_for_plot, y_train_for_plot, spl_cub, spl\n",
    "\n",
    "s_best = MSE_all[MSE_all['MSE_test'] == min(MSE_all['MSE_test'])].index[0]\n",
    "print(s_best)\n",
    "\n",
    "x_train_uni = np.linspace(x_min, x_max, num=s_best+2)\n",
    "knots_index = []\n",
    "    \n",
    "for u in x_train_uni:\n",
    "    min_ind = np.argmin(abs(x_train - u))\n",
    "    if min_ind not in knots_index:\n",
    "        knots_index.append(min_ind)\n",
    "    \n",
    "y_train_knots = [y_train[i] for i in knots_index]\n",
    "x_train_knots = sorted([x_train[i] for i in knots_index])\n",
    "\n",
    "y_train_knots_index = sorted(range(len(y_train_knots)), key=lambda k: x_train_knots[k])\n",
    "y_train_knots = [y_train_knots[i] for i in y_train_knots_index]\n",
    "\n",
    "\n",
    "spl_cub = CubicSpline(x_train_knots, y_train_knots)\n",
    "\n",
    "x_train_for_plot = np.linspace(min(x_train_knots),  max(x_train_knots), num=300)\n",
    "y_train_for_plot = spl_cub(x_train_for_plot)\n",
    "\n",
    "plt.plot(x_train_for_plot, y_train_for_plot, marker='', label=f'сплайн с df = {s_best}')    \n",
    "plt.legend()    \n",
    "print(MSE_all)"
   ]
  },
  {
   "cell_type": "code",
   "execution_count": null,
   "id": "f1715c59",
   "metadata": {},
   "outputs": [],
   "source": []
  },
  {
   "cell_type": "code",
   "execution_count": null,
   "id": "c083b48f",
   "metadata": {},
   "outputs": [],
   "source": []
  }
 ],
 "metadata": {
  "kernelspec": {
   "display_name": "envformo",
   "language": "python",
   "name": "myenv"
  },
  "language_info": {
   "codemirror_mode": {
    "name": "ipython",
    "version": 3
   },
   "file_extension": ".py",
   "mimetype": "text/x-python",
   "name": "python",
   "nbconvert_exporter": "python",
   "pygments_lexer": "ipython3",
   "version": "3.9.12"
  }
 },
 "nbformat": 4,
 "nbformat_minor": 5
}
